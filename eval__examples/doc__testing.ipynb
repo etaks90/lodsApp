{
 "cells": [
  {
   "cell_type": "code",
   "execution_count": null,
   "metadata": {},
   "outputs": [],
   "source": [
    "# to reload modules when cell is run\n",
    "%load_ext autoreload\n",
    "%autoreload 2\n",
    "\n",
    "import sys, os\n",
    "# add to path\n",
    "sys.path.append(r\"C:\\Users\\oliver.koehn\\Documents\\projects\\lodsApp\")\n",
    "sys.path.append(r\"C:\\Users\\oliver.koehn\\Documents\\projects\\lodsApp\\lib\")\n",
    "\n",
    "import openai, json\n",
    "from lib.docRec import *\n",
    "from doctr.models import ocr_predictor"
   ]
  },
  {
   "cell_type": "code",
   "execution_count": null,
   "metadata": {},
   "outputs": [],
   "source": [
    "with open(\".secrets.json\") as f:\n",
    "    j_secrets = json.load(f)\n",
    "fp = r\"C:\\Users\\oliver.koehn\\Documents\\projects\\lodsApp\\userTasks\\data\\doc\"\n",
    "list_fields = ['Dish name', 'Total amount', \"Bill Number\", \"Server\"]\n",
    "mock = j_secrets[\"openai\"][\"mock\"]\n",
    "engine = j_secrets[\"openai\"][\"engine\"]\n",
    "os.environ[\"openai__api_type\"] = j_secrets[\"openai\"][\"api_type\"]\n",
    "os.environ[\"openai__api_base\"] = j_secrets[\"openai\"][\"api_base\"]\n",
    "os.environ[\"openai__api_version\"] = j_secrets[\"openai\"][\"api_version\"]\n",
    "os.environ[\"openai__api_key\"] = j_secrets[\"openai\"][\"api_key\"]\n",
    "print(os.environ[\"openai__api_type\"])\n",
    "print(os.environ[\"openai__api_base\"])\n",
    "print(os.environ[\"openai__api_version\"])\n",
    "print(os.environ[\"openai__api_key\"])\n",
    "\n",
    "df = fpimg2df(fp, list_fields, engine, mock)"
   ]
  },
  {
   "cell_type": "code",
   "execution_count": null,
   "metadata": {},
   "outputs": [],
   "source": [
    "df.to_excel(\"dummy.xlsx\")"
   ]
  },
  {
   "cell_type": "code",
   "execution_count": null,
   "metadata": {},
   "outputs": [],
   "source": [
    "df.columns"
   ]
  },
  {
   "cell_type": "code",
   "execution_count": null,
   "metadata": {},
   "outputs": [],
   "source": [
    "print(df[['Dish name', 'Total amount', 'Bill Number', 'Server']].to_latex())"
   ]
  }
 ],
 "metadata": {
  "kernelspec": {
   "display_name": "venv311",
   "language": "python",
   "name": "python3"
  },
  "language_info": {
   "codemirror_mode": {
    "name": "ipython",
    "version": 3
   },
   "file_extension": ".py",
   "mimetype": "text/x-python",
   "name": "python",
   "nbconvert_exporter": "python",
   "pygments_lexer": "ipython3",
   "version": "3.11.8"
  }
 },
 "nbformat": 4,
 "nbformat_minor": 2
}
