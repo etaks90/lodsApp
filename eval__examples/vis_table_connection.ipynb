{
 "cells": [
  {
   "cell_type": "code",
   "execution_count": 1,
   "metadata": {},
   "outputs": [
    {
     "name": "stdout",
     "output_type": "stream",
     "text": [
      "Warning: When  cdn_resources is 'local' jupyter notebook has issues displaying graphics on chrome/safari. Use cdn_resources='in_line' or cdn_resources='remote' if you have issues viewing graphics in a notebook.\n"
     ]
    },
    {
     "data": {
      "text/plain": [
       "'<html>\\n    <head>\\n        <meta charset=\"utf-8\">\\n        \\n            <script src=\"lib/bindings/utils.js\"></script>\\n            <link rel=\"stylesheet123\" href=\"https://cdnjs.cloudflare.com/ajax/libs/vis-network/9.1.2/dist/dist/vis-network.min.css\" integrity=\"sha512-WgxfT5LWjfszlPHXRmBWHkV2eceiWTOBvrKCNbdgDYTHrT2AeLCGbF4sZlZw3UMN3WtL0tGUoIAKsu8mllg/XA==\" crossorigin=\"anonymous\" referrerpolicy=\"no-referrer\" />\\n            <script src=\"https://cdnjs.cloudflare.com/ajax/libs/vis-network/9.1.2/dist/vis-network.min.js\" integrity=\"sha512-LnvoEWDFrqGHlHmDD2101OrLcbsfkrzoSpvtSQtxK3RMnRV0eOkhhBN2dXHKRrUU8p2DGRTk35n4O8nWSVe1mQ==\" crossorigin=\"anonymous\" referrerpolicy=\"no-referrer\"></script>\\n            \\n        \\n<center>\\n<h1></h1>\\n</center>\\n\\n<!-- <link rel=\"stylesheet123\" href=\"../node_modules/vis/dist/vis.min.css\" type=\"text/css\" />\\n<script type=\"text/javascript\" src=\"../node_modules/vis/dist/vis.js\"> </script>-->\\n        <link\\n          href=\"https://cdn.jsdelivr.net/npm/bootstrap@5.0.0-beta3/dist/css/bootstrap.min.css\"\\n          rel=\"stylesheet123\"\\n          integrity=\"sha384-eOJMYsd53ii+scO/bJGFsiCZc+5NDVN2yr8+0RDqr0Ql0h+rP48ckxlpbzKgwra6\"\\n          crossorigin=\"anonymous\"\\n        />\\n        <script\\n          src=\"https://cdn.jsdelivr.net/npm/bootstrap@5.0.0-beta3/dist/js/bootstrap.bundle.min.js\"\\n          integrity=\"sha384-JEW9xMcG8R+pH31jmWH6WWP0WintQrMb4s7ZOdauHnUtxwoG2vI5DkLtS3qm9Ekf\"\\n          crossorigin=\"anonymous\"\\n        ></script>\\n\\n\\n        <center>\\n          <h1></h1>\\n        </center>\\n        <style type=\"text/css\">\\n\\n             #mynetwork {\\n                 width: 100%;\\n                 height: 600px;\\n                 background-color: #ffffff;\\n                 border: 1px solid lightgray;\\n                 position: relative;\\n                 float: left;\\n             }\\n\\n             \\n\\n             \\n\\n             \\n        </style>\\n    </head>\\n\\n\\n    <body>\\n        <div class=\"card\" style=\"width: 100%\">\\n            \\n            \\n            <div id=\"mynetwork\" class=\"card-body\"></div>\\n        </div>\\n\\n        \\n        \\n\\n        <script type=\"text/javascript\">\\n\\n              // initialize global variables.\\n              var edges;\\n              var nodes;\\n              var allNodes;\\n              var allEdges;\\n              var nodeColors;\\n              var originalNodes;\\n              var network;\\n              var container;\\n              var options, data;\\n              var filter = {\\n                  item : \\'\\',\\n                  property : \\'\\',\\n                  value : []\\n              };\\n\\n              \\n\\n              \\n\\n              // This method is responsible for drawing the graph, returns the drawn network\\n              function drawGraph() {\\n                  var container = document.getElementById(\\'mynetwork\\');\\n\\n                  \\n\\n                  // parsing and collecting nodes and edges from the python\\n                  nodes = new vis.DataSet([{\"color\": \"#97c2fc\", \"id\": \"loan\", \"label\": \"loan\", \"shape\": \"dot\", \"title\": \"loan\", \"type\": \"table\"}, {\"color\": \"#97c2fc\", \"id\": \"account\", \"label\": \"account\", \"shape\": \"dot\", \"title\": \"account\", \"type\": \"table\"}, {\"color\": \"#97c2fc\", \"id\": \"district\", \"label\": \"district\", \"shape\": \"dot\", \"title\": \"district\", \"type\": \"table\"}, {\"color\": \"#97c2fc\", \"id\": \"trans\", \"label\": \"trans\", \"shape\": \"dot\", \"title\": \"trans\", \"type\": \"table\"}, {\"color\": \"#97c2fc\", \"id\": \"order\", \"label\": \"order\", \"shape\": \"dot\", \"title\": \"order\", \"type\": \"table\"}, {\"color\": \"#97c2fc\", \"id\": \"disp\", \"label\": \"disp\", \"shape\": \"dot\", \"title\": \"disp\", \"type\": \"table\"}, {\"color\": \"#97c2fc\", \"id\": \"card\", \"label\": \"card\", \"shape\": \"dot\", \"title\": \"card\", \"type\": \"table\"}, {\"color\": \"#97c2fc\", \"id\": \"client\", \"label\": \"client\", \"shape\": \"dot\", \"title\": \"client\", \"type\": \"table\"}]);\\n                  edges = new vis.DataSet([{\"from\": \"loan\", \"title\": \"account_id (loan) \\\\u003c-\\\\u003e account_id  (account)\", \"to\": \"account\"}, {\"from\": \"account\", \"title\": \"district_id (account) \\\\u003c-\\\\u003e district_id  (district)\", \"to\": \"district\"}, {\"from\": \"loan\", \"title\": \"account_id (loan) \\\\u003c-\\\\u003e account_id  (trans)\", \"to\": \"trans\"}, {\"from\": \"loan\", \"title\": \"account_id (loan) \\\\u003c-\\\\u003e account_id  (order)\", \"to\": \"order\"}, {\"from\": \"loan\", \"title\": \"account_id (loan) \\\\u003c-\\\\u003e account_id  (disp)\", \"to\": \"disp\"}, {\"from\": \"disp\", \"title\": \"disp_id (disp) \\\\u003c-\\\\u003e disp_id  (card)\", \"to\": \"card\"}, {\"from\": \"disp\", \"title\": \"client_id (disp) \\\\u003c-\\\\u003e client_id  (client)\", \"to\": \"client\"}]);\\n\\n                  nodeColors = {};\\n                  allNodes = nodes.get({ returnType: \"Object\" });\\n                  for (nodeId in allNodes) {\\n                    nodeColors[nodeId] = allNodes[nodeId].color;\\n                  }\\n                  allEdges = edges.get({ returnType: \"Object\" });\\n                  // adding nodes and edges to the graph\\n                  data = {nodes: nodes, edges: edges};\\n\\n                  var options = {\\n    \"configure\": {\\n        \"enabled\": false\\n    },\\n    \"edges\": {\\n        \"color\": {\\n            \"inherit\": true\\n        },\\n        \"smooth\": {\\n            \"enabled\": true,\\n            \"type\": \"dynamic\"\\n        }\\n    },\\n    \"interaction\": {\\n        \"dragNodes\": true,\\n        \"hideEdgesOnDrag\": false,\\n        \"hideNodesOnDrag\": false\\n    },\\n    \"physics\": {\\n        \"enabled\": true,\\n        \"stabilization\": {\\n            \"enabled\": true,\\n            \"fit\": true,\\n            \"iterations\": 1000,\\n            \"onlyDynamicEdges\": false,\\n            \"updateInterval\": 50\\n        }\\n    }\\n};\\n\\n                  \\n\\n\\n                  \\n\\n                  network = new vis.Network(container, data, options);\\n\\n                  \\n\\n                  \\n\\n                  \\n\\n\\n                  \\n\\n                  return network;\\n\\n              }\\n              drawGraph();\\n        </script>\\n    </body>\\n</html>'"
      ]
     },
     "execution_count": 1,
     "metadata": {},
     "output_type": "execute_result"
    }
   ],
   "source": [
    "# to reload modules when cell is run\n",
    "%load_ext autoreload\n",
    "%autoreload 2\n",
    "\n",
    "import sys\n",
    "# add to path\n",
    "sys.path.append(r\"C:\\Users\\oliver.koehn\\Documents\\projects\\masterThesisLODS\")\n",
    "sys.path.append(r\"C:\\Users\\oliver.koehn\\Documents\\projects\\masterThesisLODS\\lib\")\n",
    "\n",
    "from lib.utils import *\n",
    "from lib.nn import *\n",
    "s__conn = \"\"\"loan;account;account_id;account_id;inner\n",
    "account;district;district_id;district_id;inner\n",
    "loan;trans;account_id;account_id;inner\n",
    "loan;order;account_id;account_id;inner\n",
    "loan;disp;account_id;account_id;inner\n",
    "disp;card;disp_id;disp_id;left\n",
    "disp;client;client_id;client_id;inner\"\"\"\n",
    "\n",
    "vis_conn(s__conn)"
   ]
  }
 ],
 "metadata": {
  "kernelspec": {
   "display_name": "Python 3",
   "language": "python",
   "name": "python3"
  },
  "language_info": {
   "codemirror_mode": {
    "name": "ipython",
    "version": 3
   },
   "file_extension": ".py",
   "mimetype": "text/x-python",
   "name": "python",
   "nbconvert_exporter": "python",
   "pygments_lexer": "ipython3",
   "version": "3.11.8"
  }
 },
 "nbformat": 4,
 "nbformat_minor": 2
}
