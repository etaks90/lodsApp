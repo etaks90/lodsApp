{
 "cells": [
  {
   "cell_type": "code",
   "execution_count": null,
   "metadata": {},
   "outputs": [],
   "source": []
  },
  {
   "cell_type": "code",
   "execution_count": null,
   "metadata": {},
   "outputs": [],
   "source": [
    "# to reload modules when cell is run\n",
    "%load_ext autoreload\n",
    "%autoreload 2\n",
    "\n",
    "import sys, json\n",
    "# add to path\n",
    "sys.path.append(r\"C:\\Users\\oliver.koehn\\Documents\\projects\\lodsApp\")\n",
    "sys.path.append(r\"C:\\Users\\oliver.koehn\\Documents\\projects\\lodsApp\\lib\")\n",
    "from lib.cb import *\n",
    "\n",
    "import os\n",
    "with open(\".secrets.json\") as f:\n",
    "    j_secrets = json.load(f)\n",
    "\n",
    "os.environ[\"openai__api_type\"] = j_secrets[\"openai\"][\"api_type\"]\n",
    "os.environ[\"openai__api_base\"] = j_secrets[\"openai\"][\"api_base\"]\n",
    "os.environ[\"openai__api_version\"] = j_secrets[\"openai\"][\"api_version\"]\n",
    "os.environ[\"openai__api_key\"] = j_secrets[\"openai\"][\"api_key\"]\n",
    "os.environ[\"openai__engine\"] = j_secrets[\"openai\"][\"engine\"]\n",
    "print(os.environ[\"openai__api_type\"])\n",
    "print(os.environ[\"openai__api_base\"])\n",
    "print(os.environ[\"openai__api_version\"])\n",
    "print(os.environ[\"openai__api_key\"])\n",
    "print(os.environ[\"openai__engine\"])\n",
    "\n",
    "\n",
    "# get faq\n",
    "fp = r\"C:\\Users\\oliver.koehn\\Documents\\projects\\lodsApp\\userTasks\\data\\faq\\faq.txt\"\n",
    "with open(fp, 'r') as f:\n",
    "    faq = f.read()\n",
    "\n",
    "# initialize history\n",
    "history = {}\n",
    "k = \"oliver\"\n",
    "history[k] = [{\"role\":\"system\",\"content\":f\"You are an AI assistant to answer questions based on this FAQ: '{faq}'.\"}]\n",
    "engine = os.getenv(\"openai__engine\")\n",
    "\n",
    "# For each new question, call the function with the question and FAQ.\n",
    "q1 = \"What is your return policy?\"\n",
    "history[k] = ask_question_cb(q1, history[k], engine)\n",
    "print(history[k][-1:])"
   ]
  }
 ],
 "metadata": {
  "kernelspec": {
   "display_name": "venv311",
   "language": "python",
   "name": "python3"
  },
  "language_info": {
   "codemirror_mode": {
    "name": "ipython",
    "version": 3
   },
   "file_extension": ".py",
   "mimetype": "text/x-python",
   "name": "python",
   "nbconvert_exporter": "python",
   "pygments_lexer": "ipython3",
   "version": "3.11.8"
  }
 },
 "nbformat": 4,
 "nbformat_minor": 2
}
