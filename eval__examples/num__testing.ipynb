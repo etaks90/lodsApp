{
 "cells": [
  {
   "cell_type": "code",
   "execution_count": null,
   "metadata": {},
   "outputs": [],
   "source": [
    "# to reload modules when cell is run\n",
    "%load_ext autoreload\n",
    "%autoreload 2\n",
    "\n",
    "import sys\n",
    "# add to path\n",
    "sys.path.append(r\"C:\\Users\\oliver.koehn\\Documents\\projects\\lodsApp\")\n",
    "sys.path.append(r\"C:\\Users\\oliver.koehn\\Documents\\projects\\lodsApp\\lib\")\n",
    "\n",
    "from lib.utils import *\n",
    "from lib.nn import *\n",
    "\n",
    "import json\n",
    "from sklearn.model_selection import GridSearchCV\n",
    "\n",
    "# regression\n",
    "from sklearn.ensemble import RandomForestRegressor\n",
    "from sklearn.neural_network import MLPRegressor\n",
    "from sklearn.linear_model import LinearRegression\n",
    "\n",
    "# classification\n",
    "from sklearn.ensemble import RandomForestClassifier\n",
    "\n",
    "testcase = \"berka\"\n",
    "#testcase = \"income\"\n",
    "#testcase = \"stars\"\n",
    "#testcase = \"realEstate\"\n",
    "#testcase = \"medicalCost\"\n",
    "testcase = \"autoMpg\"\n",
    "\n",
    "with open(\"config_tests.json\", \"r\") as f:\n",
    "    j = json.load(f)[testcase]\n",
    "\n",
    "session = j[\"session\"]"
   ]
  },
  {
   "cell_type": "code",
   "execution_count": null,
   "metadata": {},
   "outputs": [],
   "source": [
    "## TRAIN NETWORK\n",
    "\n",
    "################################################################################\n",
    "# we need the df to get default session parameters\n",
    "j__df = get_j__df(session['fp_tmp_user_num'], session['delimiter'], n__sample = 3)\n",
    "textfields_frontend = get_frontend_default_columnNames_columnTypes_joins(j__df)\n",
    "session.update(textfields_frontend)\n",
    "################################################################################\n",
    "\n",
    "#################################################################################################################################################\n",
    "########################## GET DF ########################################################################################################\n",
    "#################################################################################################################################################\n",
    "\n",
    "df = get_df(session)\n",
    "#################################################################################################################################################\n",
    "########################## SET TRAIN INPUTS ########################################################################################################\n",
    "#################################################################################################################################################\n",
    "\n",
    "# get input cols\n",
    "df__num, df__cat = get_input_cols(df.copy(), session[\"tar_col\"], th_num = 0, th_cat = 0)\n",
    "session[\"num_cols\"] = [e for e in df__num[\"Column Name (Numerical)\"].to_list() if e not in [session[\"tar_col\"]]]\n",
    "session[\"cat_cols\"] = [e for e in df__cat[\"Column Name (Categorical)\"].to_list() if e not in [session[\"tar_col\"]]]\n",
    "\n",
    "#################################################################################################################################################\n",
    "########################## TRAIN NETWORK ########################################################################################################\n",
    "#################################################################################################################################################\n",
    "\n",
    "session[\"predict_type\"] = set_classification_type(df, session)\n",
    "\n",
    "if session[\"predict_type\"].lower() == \"classification\":\n",
    "    list__methods=[RandomForestClassifier]\n",
    "    session[\"main_metric\"] = \"f1_score\"\n",
    "    session[\"best_type\"] = \"MAX\"\n",
    "else:\n",
    "    list__methods=[LinearRegression, RandomForestRegressor, MLPRegressor]\n",
    "    session[\"main_metric\"] = \"nmse\"\n",
    "    session[\"best_type\"] = \"MIN\"\n",
    "\n",
    "pipeline, metrics, result_visualization, res, res_with_best_metric = train_network(df, session, \"dummy\", list__methods=list__methods, param_grid=None)\n",
    "    \n"
   ]
  },
  {
   "cell_type": "code",
   "execution_count": null,
   "metadata": {},
   "outputs": [],
   "source": [
    "result_visualization"
   ]
  },
  {
   "cell_type": "code",
   "execution_count": null,
   "metadata": {},
   "outputs": [],
   "source": [
    "res_with_best_metric[1][\"metric\"][\"test\"]"
   ]
  },
  {
   "cell_type": "code",
   "execution_count": null,
   "metadata": {},
   "outputs": [],
   "source": [
    "res"
   ]
  },
  {
   "cell_type": "code",
   "execution_count": null,
   "metadata": {},
   "outputs": [],
   "source": [
    "# USE TRAINED NETWORK\n",
    "\n",
    "# get pipeline\n",
    "session = {}\n",
    "fp_network = r\"data\\num_networks\\dummy.pickle\"\n",
    "with open(fp_network, 'rb') as f:\n",
    "        j = pickle.load(f)\n",
    "pipeline = j[\"pipeline\"]\n",
    "session.update(j[\"session\"])\n",
    "\n",
    "# read data\n",
    "df = get_df(session)\n",
    "\n",
    "# use pipeline on data\n",
    "p = pipeline.predict(df)\n",
    "df[\"predicted\"] = p\n",
    "\n",
    "df"
   ]
  },
  {
   "cell_type": "code",
   "execution_count": null,
   "metadata": {},
   "outputs": [],
   "source": [
    "j"
   ]
  }
 ],
 "metadata": {
  "kernelspec": {
   "display_name": "venv311",
   "language": "python",
   "name": "python3"
  },
  "language_info": {
   "codemirror_mode": {
    "name": "ipython",
    "version": 3
   },
   "file_extension": ".py",
   "mimetype": "text/x-python",
   "name": "python",
   "nbconvert_exporter": "python",
   "pygments_lexer": "ipython3",
   "version": "3.11.8"
  }
 },
 "nbformat": 4,
 "nbformat_minor": 2
}
